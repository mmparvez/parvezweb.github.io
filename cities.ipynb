{
 "cells": [
  {
   "cell_type": "code",
   "execution_count": 2,
   "metadata": {},
   "outputs": [],
   "source": [
    "#Dependencies\n",
    "import pandas as pd\n"
   ]
  },
  {
   "cell_type": "code",
   "execution_count": 6,
   "metadata": {},
   "outputs": [
    {
     "data": {
      "text/html": [
       "<div>\n",
       "<style scoped>\n",
       "    .dataframe tbody tr th:only-of-type {\n",
       "        vertical-align: middle;\n",
       "    }\n",
       "\n",
       "    .dataframe tbody tr th {\n",
       "        vertical-align: top;\n",
       "    }\n",
       "\n",
       "    .dataframe thead th {\n",
       "        text-align: right;\n",
       "    }\n",
       "</style>\n",
       "<table border=\"1\" class=\"dataframe\">\n",
       "  <thead>\n",
       "    <tr style=\"text-align: right;\">\n",
       "      <th></th>\n",
       "      <th>City</th>\n",
       "      <th>Lat</th>\n",
       "      <th>Lng</th>\n",
       "      <th>Max Temp</th>\n",
       "      <th>Humidity</th>\n",
       "      <th>Cloudiness</th>\n",
       "      <th>Wind Speed</th>\n",
       "      <th>Country</th>\n",
       "      <th>Date</th>\n",
       "    </tr>\n",
       "    <tr>\n",
       "      <th>City_ID</th>\n",
       "      <th></th>\n",
       "      <th></th>\n",
       "      <th></th>\n",
       "      <th></th>\n",
       "      <th></th>\n",
       "      <th></th>\n",
       "      <th></th>\n",
       "      <th></th>\n",
       "      <th></th>\n",
       "    </tr>\n",
       "  </thead>\n",
       "  <tbody>\n",
       "    <tr>\n",
       "      <th>0</th>\n",
       "      <td>morant bay</td>\n",
       "      <td>17.88</td>\n",
       "      <td>-76.41</td>\n",
       "      <td>28.73</td>\n",
       "      <td>70</td>\n",
       "      <td>27</td>\n",
       "      <td>4.82</td>\n",
       "      <td>JM</td>\n",
       "      <td>1970-01-01</td>\n",
       "    </tr>\n",
       "    <tr>\n",
       "      <th>1</th>\n",
       "      <td>portland</td>\n",
       "      <td>45.52</td>\n",
       "      <td>-122.68</td>\n",
       "      <td>17.11</td>\n",
       "      <td>83</td>\n",
       "      <td>100</td>\n",
       "      <td>0.45</td>\n",
       "      <td>US</td>\n",
       "      <td>1970-01-01</td>\n",
       "    </tr>\n",
       "    <tr>\n",
       "      <th>2</th>\n",
       "      <td>batagay</td>\n",
       "      <td>67.63</td>\n",
       "      <td>134.63</td>\n",
       "      <td>4.01</td>\n",
       "      <td>97</td>\n",
       "      <td>100</td>\n",
       "      <td>3.21</td>\n",
       "      <td>RU</td>\n",
       "      <td>1970-01-01</td>\n",
       "    </tr>\n",
       "    <tr>\n",
       "      <th>3</th>\n",
       "      <td>los llanos de aridane</td>\n",
       "      <td>28.66</td>\n",
       "      <td>-17.92</td>\n",
       "      <td>23.86</td>\n",
       "      <td>91</td>\n",
       "      <td>75</td>\n",
       "      <td>2.57</td>\n",
       "      <td>ES</td>\n",
       "      <td>1970-01-01</td>\n",
       "    </tr>\n",
       "    <tr>\n",
       "      <th>4</th>\n",
       "      <td>chuy</td>\n",
       "      <td>-33.70</td>\n",
       "      <td>-53.46</td>\n",
       "      <td>15.41</td>\n",
       "      <td>73</td>\n",
       "      <td>15</td>\n",
       "      <td>5.18</td>\n",
       "      <td>UY</td>\n",
       "      <td>1970-01-01</td>\n",
       "    </tr>\n",
       "  </tbody>\n",
       "</table>\n",
       "</div>"
      ],
      "text/plain": [
       "                          City    Lat     Lng  Max Temp  Humidity  Cloudiness  \\\n",
       "City_ID                                                                         \n",
       "0                   morant bay  17.88  -76.41     28.73        70          27   \n",
       "1                     portland  45.52 -122.68     17.11        83         100   \n",
       "2                      batagay  67.63  134.63      4.01        97         100   \n",
       "3        los llanos de aridane  28.66  -17.92     23.86        91          75   \n",
       "4                         chuy -33.70  -53.46     15.41        73          15   \n",
       "\n",
       "         Wind Speed Country        Date  \n",
       "City_ID                                  \n",
       "0              4.82      JM  1970-01-01  \n",
       "1              0.45      US  1970-01-01  \n",
       "2              3.21      RU  1970-01-01  \n",
       "3              2.57      ES  1970-01-01  \n",
       "4              5.18      UY  1970-01-01  "
      ]
     },
     "execution_count": 6,
     "metadata": {},
     "output_type": "execute_result"
    }
   ],
   "source": [
    "# Read the csv file into a pandas DataFrame\n",
    "from datetime import date\n",
    "\n",
    "\n",
    "df = pd.read_csv('Resources\\cities_df.csv')\n",
    "df = df.set_index('City_ID')\n",
    "#Convert Date format\n",
    "df['Date'] = pd.to_datetime(df['Date']).dt.date\n",
    "#Round Lat and Long\n",
    "df['Lat'] = df['Lat'].round(2)\n",
    "df['Lng'] = df['Lng'].round(2)\n",
    "\n",
    "\n",
    "df.head()"
   ]
  },
  {
   "cell_type": "code",
   "execution_count": 14,
   "metadata": {},
   "outputs": [],
   "source": [
    "# Use Pandas to convert the data to a HTML table string.\n",
    "df_html = df.to_html()\n",
    "df_html = df_html.replace('\\n', '')\n"
   ]
  },
  {
   "cell_type": "code",
   "execution_count": 17,
   "metadata": {},
   "outputs": [],
   "source": [
    "# Save the html to a file\n",
    "df.to_html('Resources/table.html')"
   ]
  }
 ],
 "metadata": {
  "kernelspec": {
   "display_name": "Python 3.7.13 ('PythonData')",
   "language": "python",
   "name": "python3"
  },
  "language_info": {
   "codemirror_mode": {
    "name": "ipython",
    "version": 3
   },
   "file_extension": ".py",
   "mimetype": "text/x-python",
   "name": "python",
   "nbconvert_exporter": "python",
   "pygments_lexer": "ipython3",
   "version": "3.7.13"
  },
  "orig_nbformat": 4,
  "vscode": {
   "interpreter": {
    "hash": "9da66beca27f19bdf81de16e0121a30aa04d4edd5eb88e9a5610932102b72b6f"
   }
  }
 },
 "nbformat": 4,
 "nbformat_minor": 2
}
